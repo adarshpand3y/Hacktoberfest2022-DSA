{
 "cells": [
  {
   "cell_type": "code",
   "execution_count": null,
   "metadata": {},
   "outputs": [],
   "source": [
    "from setuptools import setup\n",
    "import sys\n",
    "\n",
    "\n",
    "setup(\n",
    "    name='internetarchive',\n",
    "    version='0.7.8',\n",
    "    author='ria.social',\n",
    "    author_email='spkasdol@gmail.com',\n",
    "    packages=['internetarchive', 'internetarchive.iacli'],\n",
    "    entry_points = {\n",
    "        'console_scripts': [\n",
    "            'ia = internetarchive.iacli.ia:main',\n",
    "        ],\n",
    "    },\n",
    "    url='https://github.com/jjjake/ia-wrapper',\n",
    "    license='AGPL 3',\n",
    "    description='A python interface to archive.org.',\n",
    "    long_description=open('README.rst').read(),\n",
    "    install_requires=[\n",
    "        'requests==2.3.0',\n",
    "        'jsonpatch==0.4',\n",
    "        'pytest==2.3.4',\n",
    "        'docopt==0.6.1',\n",
    "        'PyYAML==3.10',\n",
    "        'clint==0.3.3',\n",
    "        'six==1.4.1',\n",
    "    ],\n",
    "    extras_require = {\n",
    "        'speedups': [\n",
    "            'ujson==1.33',\n",
    "            'Cython==0.18',\n",
    "            'gevent==1.0',\n",
    "        ],\n",
    "    },\n",
    "    classifiers=(\n",
    "        'Development Status :: 4 - Beta',\n",
    "        'Intended Audience :: Developers',\n",
    "        'Natural Language :: English',\n",
    "        'License :: OSI Approved :: GNU Affero General Public License v3',\n",
    "        'Programming Language :: Python',\n",
    "        'Programming Language :: Python :: 2.6',\n",
    "        'Programming Language :: Python :: 2.7',\n",
    "        'Programming Language :: Python :: 3.4',\n",
    "    )\n",
    ")"
   ]
  },
  {
   "cell_type": "code",
   "execution_count": null,
   "metadata": {},
   "outputs": [],
   "source": []
  }
 ],
 "metadata": {
  "kernelspec": {
   "display_name": "Python 3",
   "language": "python",
   "name": "python3"
  },
  "language_info": {
   "codemirror_mode": {
    "name": "ipython",
    "version": 3
   },
   "file_extension": ".py",
   "mimetype": "text/x-python",
   "name": "python",
   "nbconvert_exporter": "python",
   "pygments_lexer": "ipython3",
   "version": "3.6.4"
  }
 },
 "nbformat": 4,
 "nbformat_minor": 2
}
